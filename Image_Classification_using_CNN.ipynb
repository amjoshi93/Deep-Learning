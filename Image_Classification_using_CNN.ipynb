{
  "nbformat": 4,
  "nbformat_minor": 0,
  "metadata": {
    "colab": {
      "name": "Image Classification using CNN.ipynb",
      "provenance": [],
      "collapsed_sections": []
    },
    "kernelspec": {
      "display_name": "Python 3",
      "name": "python3"
    },
    "language_info": {
      "name": "python"
    }
  },
  "cells": [
    {
      "cell_type": "code",
      "metadata": {
        "colab": {
          "base_uri": "https://localhost:8080/"
        },
        "id": "JVMM17LPdrSF",
        "outputId": "c9bc2c8e-97e6-4323-8a56-637f8839ed4d"
      },
      "source": [
        "print(\"Images Classification using CNN\")"
      ],
      "execution_count": 215,
      "outputs": [
        {
          "output_type": "stream",
          "text": [
            "Images Classification using CNN\n"
          ],
          "name": "stdout"
        }
      ]
    },
    {
      "cell_type": "code",
      "metadata": {
        "id": "mJo9aKWedzxh"
      },
      "source": [
        "import os\n",
        "import zipfile\n",
        "import tensorflow as tf\n",
        "import random as rand\n",
        "import numpy as np\n",
        "import pandas as pd\n",
        "import seaborn as sns\n",
        "import matplotlib.pyplot as plt\n",
        "from keras.models import Model\n",
        "import cv2 #computer vision\n",
        "import matplotlib.image as mpimage\n",
        "from google.colab import drive\n",
        "from keras.utils import np_utils\n",
        "from sklearn.model_selection import train_test_split\n",
        "from tensorflow.keras.models import Sequential\n",
        "#from tensorflow.keras.layers import Dense\n",
        "from tensorflow.keras.layers import Dense,Conv2D,Flatten,Layer,MaxPooling2D\n",
        "from tensorflow.keras.applications.vgg16 import VGG16\n",
        "from tensorflow.keras.applications.vgg16 import preprocess_input\n",
        "\n"
      ],
      "execution_count": 154,
      "outputs": []
    },
    {
      "cell_type": "code",
      "metadata": {
        "colab": {
          "base_uri": "https://localhost:8080/"
        },
        "id": "WcErHVTIMio8",
        "outputId": "f472755b-fcdc-4c10-a553-d1b5cec61678"
      },
      "source": [
        "from google.colab import drive\n",
        "drive.mount('/content/gdrive')"
      ],
      "execution_count": 155,
      "outputs": [
        {
          "output_type": "stream",
          "text": [
            "Drive already mounted at /content/gdrive; to attempt to forcibly remount, call drive.mount(\"/content/gdrive\", force_remount=True).\n"
          ],
          "name": "stdout"
        }
      ]
    },
    {
      "cell_type": "code",
      "metadata": {
        "id": "H5Wf2qjuMZXk"
      },
      "source": [
        "\n"
      ],
      "execution_count": 155,
      "outputs": []
    },
    {
      "cell_type": "code",
      "metadata": {
        "id": "l76f-pXTPxyr"
      },
      "source": [
        "#!unzip -u \"/content/gdrive/My Drive/6 image classification.zip\" -d \"/content/gdrive/My Drive/NewFolder\""
      ],
      "execution_count": 156,
      "outputs": []
    },
    {
      "cell_type": "markdown",
      "metadata": {
        "id": "nSNt3v07S9lx"
      },
      "source": [
        "!unzip file_location -d file_destination , 'u' helps incase the  colab shuts to resume without reuploading the already unzipped files and 'd' is the destination directory. Can also  First create a new directory:\n",
        "!mkdir file_destination , and then run the above the code."
      ]
    },
    {
      "cell_type": "code",
      "metadata": {
        "id": "LX6UC9zJEOBz"
      },
      "source": [
        "train_buildings = os.listdir(r\"/content/gdrive/My Drive/NewFolder/seg_train/seg_train/buildings\")\n",
        "train_forest = os.listdir(r\"/content/gdrive/My Drive/NewFolder/seg_train/seg_train/forest\")\n",
        "train_glacier = os.listdir(r\"/content/gdrive/My Drive/NewFolder/seg_train/seg_train/glacier\")\n",
        "train_mountain = os.listdir(r\"/content/gdrive/My Drive/NewFolder/seg_train/seg_train/mountain\")\n",
        "train_sea = os.listdir(r\"/content/gdrive/My Drive/NewFolder/seg_train/seg_train/sea\")\n",
        "train_street = os.listdir(r\"/content/gdrive/My Drive/NewFolder/seg_train/seg_train/street\")"
      ],
      "execution_count": 157,
      "outputs": []
    },
    {
      "cell_type": "code",
      "metadata": {
        "id": "TPCrohH4nT0Z"
      },
      "source": [
        "test_buildings = os.listdir(r\"/content/gdrive/My Drive/NewFolder/seg_test/seg_test/buildings\")\n",
        "test_forest = os.listdir(r\"/content/gdrive/My Drive/NewFolder/seg_test/seg_test/forest\")\n",
        "test_glacier = os.listdir(r\"/content/gdrive/My Drive/NewFolder/seg_test/seg_test/glacier\")\n",
        "test_mountain = os.listdir(r\"/content/gdrive/My Drive/NewFolder/seg_test/seg_test/mountain\")\n",
        "test_sea = os.listdir(r\"/content/gdrive/My Drive/NewFolder/seg_test/seg_test/sea\")\n",
        "test_street = os.listdir(r\"/content/gdrive/My Drive/NewFolder/seg_test/seg_test/street\")"
      ],
      "execution_count": 158,
      "outputs": []
    },
    {
      "cell_type": "code",
      "metadata": {
        "id": "QCd4HL_Qcryh"
      },
      "source": [
        "train_buildings # is a list of images"
      ],
      "execution_count": null,
      "outputs": []
    },
    {
      "cell_type": "code",
      "metadata": {
        "colab": {
          "base_uri": "https://localhost:8080/"
        },
        "id": "ndNgwtyqnqdm",
        "outputId": "161b6ce6-61de-4886-af40-a44faa3be177"
      },
      "source": [
        "len(train_buildings)"
      ],
      "execution_count": 160,
      "outputs": [
        {
          "output_type": "execute_result",
          "data": {
            "text/plain": [
              "2191"
            ]
          },
          "metadata": {
            "tags": []
          },
          "execution_count": 160
        }
      ]
    },
    {
      "cell_type": "code",
      "metadata": {
        "colab": {
          "base_uri": "https://localhost:8080/",
          "height": 35
        },
        "id": "RwexhfnGnt39",
        "outputId": "daec2a52-fdc1-4b97-b6a0-63ec62327029"
      },
      "source": [
        "train_buildings[1]"
      ],
      "execution_count": 161,
      "outputs": [
        {
          "output_type": "execute_result",
          "data": {
            "application/vnd.google.colaboratory.intrinsic+json": {
              "type": "string"
            },
            "text/plain": [
              "'19466.jpg'"
            ]
          },
          "metadata": {
            "tags": []
          },
          "execution_count": 161
        }
      ]
    },
    {
      "cell_type": "code",
      "metadata": {
        "colab": {
          "base_uri": "https://localhost:8080/"
        },
        "id": "1CdpotunnxLa",
        "outputId": "9a245ef2-8c7e-4cbd-a2e3-fb2fcc0c57af"
      },
      "source": [
        "len(train_forest)"
      ],
      "execution_count": 162,
      "outputs": [
        {
          "output_type": "execute_result",
          "data": {
            "text/plain": [
              "2271"
            ]
          },
          "metadata": {
            "tags": []
          },
          "execution_count": 162
        }
      ]
    },
    {
      "cell_type": "code",
      "metadata": {
        "colab": {
          "base_uri": "https://localhost:8080/"
        },
        "id": "5iScAxqjoDcA",
        "outputId": "c8c64944-17a4-416d-a65d-e90675f78a92"
      },
      "source": [
        "len(train_glacier)"
      ],
      "execution_count": 163,
      "outputs": [
        {
          "output_type": "execute_result",
          "data": {
            "text/plain": [
              "2404"
            ]
          },
          "metadata": {
            "tags": []
          },
          "execution_count": 163
        }
      ]
    },
    {
      "cell_type": "code",
      "metadata": {
        "colab": {
          "base_uri": "https://localhost:8080/"
        },
        "id": "HV1fIzHCoF9b",
        "outputId": "8ff5a819-32a5-44a1-d0ae-905e22a79828"
      },
      "source": [
        "len(train_sea)"
      ],
      "execution_count": 164,
      "outputs": [
        {
          "output_type": "execute_result",
          "data": {
            "text/plain": [
              "2274"
            ]
          },
          "metadata": {
            "tags": []
          },
          "execution_count": 164
        }
      ]
    },
    {
      "cell_type": "code",
      "metadata": {
        "colab": {
          "base_uri": "https://localhost:8080/"
        },
        "id": "68P3cnUIoIBI",
        "outputId": "1657101f-80d4-4a13-c446-27985cea9f25"
      },
      "source": [
        "len(train_street)"
      ],
      "execution_count": 165,
      "outputs": [
        {
          "output_type": "execute_result",
          "data": {
            "text/plain": [
              "2382"
            ]
          },
          "metadata": {
            "tags": []
          },
          "execution_count": 165
        }
      ]
    },
    {
      "cell_type": "code",
      "metadata": {
        "id": "Vp0Saq42oKsW"
      },
      "source": [
        "train_data= []\n",
        "for i in train_buildings:\n",
        "  train_data.append([i,0,])#its a list not a dataframe, this must be enumerating for labels\n",
        "for i in train_forest:\n",
        "  train_data.append([i,1])\n",
        "for i in train_glacier:\n",
        "  train_data.append([i,2])\n",
        "for i in train_mountain:\n",
        "  train_data.append([i,2])\n",
        "for i in train_sea:\n",
        "  train_data.append([i,3])\n",
        "for i in train_street:\n",
        "  train_data.append([i,4])"
      ],
      "execution_count": 166,
      "outputs": []
    },
    {
      "cell_type": "code",
      "metadata": {
        "colab": {
          "base_uri": "https://localhost:8080/"
        },
        "id": "gaX6zsMOoUGY",
        "outputId": "d42fd44e-22e3-4a5f-dde4-10b0c5b79704"
      },
      "source": [
        "len(train_data)"
      ],
      "execution_count": 167,
      "outputs": [
        {
          "output_type": "execute_result",
          "data": {
            "text/plain": [
              "14034"
            ]
          },
          "metadata": {
            "tags": []
          },
          "execution_count": 167
        }
      ]
    },
    {
      "cell_type": "code",
      "metadata": {
        "id": "MC2StKlAoY51"
      },
      "source": [
        "#shuffling the data\n",
        "rand.shuffle(train_data)"
      ],
      "execution_count": 168,
      "outputs": []
    },
    {
      "cell_type": "code",
      "metadata": {
        "id": "WdXVVAsIoen4"
      },
      "source": [
        "train_data = pd.DataFrame(train_data , columns = ['images','label'])"
      ],
      "execution_count": 169,
      "outputs": []
    },
    {
      "cell_type": "code",
      "metadata": {
        "colab": {
          "base_uri": "https://localhost:8080/",
          "height": 204
        },
        "id": "mM0X350SohTf",
        "outputId": "df231686-c4a5-418c-819c-82882981ba41"
      },
      "source": [
        "train_data.head()"
      ],
      "execution_count": 170,
      "outputs": [
        {
          "output_type": "execute_result",
          "data": {
            "text/html": [
              "<div>\n",
              "<style scoped>\n",
              "    .dataframe tbody tr th:only-of-type {\n",
              "        vertical-align: middle;\n",
              "    }\n",
              "\n",
              "    .dataframe tbody tr th {\n",
              "        vertical-align: top;\n",
              "    }\n",
              "\n",
              "    .dataframe thead th {\n",
              "        text-align: right;\n",
              "    }\n",
              "</style>\n",
              "<table border=\"1\" class=\"dataframe\">\n",
              "  <thead>\n",
              "    <tr style=\"text-align: right;\">\n",
              "      <th></th>\n",
              "      <th>images</th>\n",
              "      <th>label</th>\n",
              "    </tr>\n",
              "  </thead>\n",
              "  <tbody>\n",
              "    <tr>\n",
              "      <th>0</th>\n",
              "      <td>239.jpg</td>\n",
              "      <td>3</td>\n",
              "    </tr>\n",
              "    <tr>\n",
              "      <th>1</th>\n",
              "      <td>18430.jpg</td>\n",
              "      <td>2</td>\n",
              "    </tr>\n",
              "    <tr>\n",
              "      <th>2</th>\n",
              "      <td>15988.jpg</td>\n",
              "      <td>0</td>\n",
              "    </tr>\n",
              "    <tr>\n",
              "      <th>3</th>\n",
              "      <td>9971.jpg</td>\n",
              "      <td>2</td>\n",
              "    </tr>\n",
              "    <tr>\n",
              "      <th>4</th>\n",
              "      <td>13225.jpg</td>\n",
              "      <td>1</td>\n",
              "    </tr>\n",
              "  </tbody>\n",
              "</table>\n",
              "</div>"
            ],
            "text/plain": [
              "      images  label\n",
              "0    239.jpg      3\n",
              "1  18430.jpg      2\n",
              "2  15988.jpg      0\n",
              "3   9971.jpg      2\n",
              "4  13225.jpg      1"
            ]
          },
          "metadata": {
            "tags": []
          },
          "execution_count": 170
        }
      ]
    },
    {
      "cell_type": "code",
      "metadata": {
        "colab": {
          "base_uri": "https://localhost:8080/",
          "height": 269
        },
        "id": "K-qv3jYLojn6",
        "outputId": "2790221f-9dbf-468a-801e-32602f5955fe"
      },
      "source": [
        "img = plt.imread(r\"/content/gdrive/My Drive/NewFolder/seg_train/seg_train/mountain/1278.jpg\")\n",
        "#Read an image from a file into an array.\n",
        "plt.imshow(img)\n",
        "plt.show()"
      ],
      "execution_count": 171,
      "outputs": [
        {
          "output_type": "display_data",
          "data": {
            "image/png": "[encoded data removed]",
            "text/plain": [
              "<Figure size 432x288 with 1 Axes>"
            ]
          },
          "metadata": {
            "tags": [],
            "needs_background": "light"
          }
        }
      ]
    },
    {
      "cell_type": "code",
      "metadata": {
        "colab": {
          "base_uri": "https://localhost:8080/"
        },
        "id": "FbcBTqtooq14",
        "outputId": "201e5679-3ee3-4da8-f128-529950bdab63"
      },
      "source": [
        "img.shape"
      ],
      "execution_count": 172,
      "outputs": [
        {
          "output_type": "execute_result",
          "data": {
            "text/plain": [
              "(150, 150, 3)"
            ]
          },
          "metadata": {
            "tags": []
          },
          "execution_count": 172
        }
      ]
    },
    {
      "cell_type": "code",
      "metadata": {
        "colab": {
          "base_uri": "https://localhost:8080/"
        },
        "id": "yvhE1ZPVp9Mt",
        "outputId": "2a37887b-1956-4180-8aa4-68bf05aca070"
      },
      "source": [
        "img.dtype"
      ],
      "execution_count": 173,
      "outputs": [
        {
          "output_type": "execute_result",
          "data": {
            "text/plain": [
              "dtype('uint8')"
            ]
          },
          "metadata": {
            "tags": []
          },
          "execution_count": 173
        }
      ]
    },
    {
      "cell_type": "code",
      "metadata": {
        "colab": {
          "base_uri": "https://localhost:8080/",
          "height": 269
        },
        "id": "l2qeiPCpq43k",
        "outputId": "a26e51c9-2620-45d5-acb5-20168a5692af"
      },
      "source": [
        "img = cv2.imread(r\"/content/gdrive/My Drive/NewFolder/seg_train/seg_train/mountain/1278.jpg\")\n",
        "#Read an image from a file into an array.\n",
        "plt.imshow(img)\n",
        "plt.show()"
      ],
      "execution_count": 174,
      "outputs": [
        {
          "output_type": "display_data",
          "data": {
            "image/png": "[encoded data removed]",
            "text/plain": [
              "<Figure size 432x288 with 1 Axes>"
            ]
          },
          "metadata": {
            "tags": [],
            "needs_background": "light"
          }
        }
      ]
    },
    {
      "cell_type": "markdown",
      "metadata": {
        "id": "XMWyhgljrg4J"
      },
      "source": [
        "CV2 reads the image in BGR and plt reads in RGB"
      ]
    },
    {
      "cell_type": "code",
      "metadata": {
        "colab": {
          "base_uri": "https://localhost:8080/"
        },
        "id": "OZpJUdEpsBDf",
        "outputId": "78eff4c7-9d40-4a1c-c719-4f33f772ecb4"
      },
      "source": [
        "img.shape"
      ],
      "execution_count": 175,
      "outputs": [
        {
          "output_type": "execute_result",
          "data": {
            "text/plain": [
              "(150, 150, 3)"
            ]
          },
          "metadata": {
            "tags": []
          },
          "execution_count": 175
        }
      ]
    },
    {
      "cell_type": "code",
      "metadata": {
        "colab": {
          "base_uri": "https://localhost:8080/"
        },
        "id": "IfSBYA0DsFSu",
        "outputId": "a5a6d244-d4b3-43a7-80ce-852272a0f014"
      },
      "source": [
        "img.dtype"
      ],
      "execution_count": 176,
      "outputs": [
        {
          "output_type": "execute_result",
          "data": {
            "text/plain": [
              "dtype('uint8')"
            ]
          },
          "metadata": {
            "tags": []
          },
          "execution_count": 176
        }
      ]
    },
    {
      "cell_type": "code",
      "metadata": {
        "colab": {
          "base_uri": "https://localhost:8080/",
          "height": 349
        },
        "id": "M8qm_5O2sHpn",
        "outputId": "9a58236e-bc6c-495f-d0e0-d41056d0c51a"
      },
      "source": [
        "plt.subplot(1,1,1)\n",
        "sns.countplot(train_data['label'])\n",
        "plt.title('Train data')\n",
        "plt.show()"
      ],
      "execution_count": 177,
      "outputs": [
        {
          "output_type": "stream",
          "text": [
            "/usr/local/lib/python3.7/dist-packages/seaborn/_decorators.py:43: FutureWarning: Pass the following variable as a keyword arg: x. From version 0.12, the only valid positional argument will be `data`, and passing other arguments without an explicit keyword will result in an error or misinterpretation.\n",
            "  FutureWarning\n"
          ],
          "name": "stderr"
        },
        {
          "output_type": "display_data",
          "data": {
            "image/png": "[encoded data removed]",
            "text/plain": [
              "<Figure size 432x288 with 1 Axes>"
            ]
          },
          "metadata": {
            "tags": [],
            "needs_background": "light"
          }
        }
      ]
    },
    {
      "cell_type": "code",
      "metadata": {
        "colab": {
          "base_uri": "https://localhost:8080/",
          "height": 69
        },
        "id": "0QllfW5NiI__",
        "outputId": "1581f281-1be7-485f-b739-0173ebc6dd6a"
      },
      "source": [
        "'''x = []\n",
        "y = []\n",
        "\n",
        "for i in os.listdir(r\"/content/gdrive/My Drive/NewFolder/seg_train/seg_train/\"):\n",
        "  for j in os.listdir(r\"/content/gdrive/My Drive/NewFolder/seg_train/seg_train/\"+i+'/'):\n",
        "     img = plt.imread(\"/content/gdrive/My Drive/NewFolder/seg_train/seg_train/\"+i +'/'+j)\n",
        "     img = cv2.resize(img,(256,256))\n",
        "     x.append(img)\n",
        "     y.append(i)'''\n",
        " "
      ],
      "execution_count": 178,
      "outputs": [
        {
          "output_type": "execute_result",
          "data": {
            "application/vnd.google.colaboratory.intrinsic+json": {
              "type": "string"
            },
            "text/plain": [
              "'x = []\\ny = []\\n\\nfor i in os.listdir(r\"/content/gdrive/My Drive/NewFolder/seg_train/seg_train/\"):\\n  for j in os.listdir(r\"/content/gdrive/My Drive/NewFolder/seg_train/seg_train/\"+i+\\'/\\'):\\n     img = plt.imread(\"/content/gdrive/My Drive/NewFolder/seg_train/seg_train/\"+i +\\'/\\'+j)\\n     img = cv2.resize(img,(256,256))\\n     x.append(img)\\n     y.append(i)'"
            ]
          },
          "metadata": {
            "tags": []
          },
          "execution_count": 178
        }
      ]
    },
    {
      "cell_type": "code",
      "metadata": {
        "id": "CXbZlGBtsK6g"
      },
      "source": [
        "x = []\n",
        "y = []\n",
        "\n",
        "\n",
        "\n",
        "for i in range(100):\n",
        "    img = plt.imread(\"/content/gdrive/My Drive/NewFolder/seg_train/seg_train/buildings/\" + train_buildings[i])\n",
        "    img = cv2.resize(img,(256,256))\n",
        "    x.append(img)\n",
        "    y.append(0)\n",
        "\n",
        "for i in range(100):\n",
        "    img = plt.imread(\"/content/gdrive/My Drive/NewFolder/seg_train/seg_train/forest/\" + train_forest[i])\n",
        "    img = cv2.resize(img,(256,256))\n",
        "    x.append(img)\n",
        "    y.append(1)\n",
        "\n",
        "for i in range(100):\n",
        "    img = plt.imread(\"/content/gdrive/My Drive/NewFolder/seg_train/seg_train/glacier/\" + train_glacier[i])\n",
        "    img = cv2.resize(img,(256,256))\n",
        "    x.append(img)\n",
        "    y.append(2)\n",
        "    \n",
        "for i in range(100):\n",
        "    img = plt.imread(\"/content/gdrive/My Drive/NewFolder/seg_train/seg_train/mountain/\" + train_mountain[i])\n",
        "    img = cv2.resize(img,(256,256))\n",
        "    x.append(img)\n",
        "    y.append(3)\n",
        "\n",
        "for i in range(100):\n",
        "    img = plt.imread(\"/content/gdrive/My Drive/NewFolder/seg_train/seg_train/sea/\" + train_sea[i])\n",
        "    img = cv2.resize(img,(256,256))\n",
        "    x.append(img)\n",
        "    y.append(4)\n",
        "\n",
        "for i in range(100):\n",
        "    img = plt.imread(\"/content/gdrive/My Drive/NewFolder/seg_train/seg_train/street/\" + train_street[i])\n",
        "    img = cv2.resize(img,(256,256))\n",
        "    x.append(img)\n",
        "    y.append(5)\n",
        "\n"
      ],
      "execution_count": 179,
      "outputs": []
    },
    {
      "cell_type": "code",
      "metadata": {
        "id": "vETLiJShsaW5"
      },
      "source": [
        "x1 = []\n",
        "y1 = []\n",
        "\n",
        "for i in range(25):\n",
        "    img = plt.imread(\"/content/gdrive/My Drive/NewFolder/seg_test/seg_test/buildings/\"+ test_buildings[i])\n",
        "    img = cv2.resize(img,(256,256))\n",
        "    x1.append(img)\n",
        "    y1.append(0)\n",
        "\n",
        "for i in range(25):\n",
        "    img = plt.imread(\"/content/gdrive/My Drive/NewFolder/seg_test/seg_test/forest/\" + test_forest[i])\n",
        "    img = cv2.resize(img,(256,256))\n",
        "    x1.append(img)\n",
        "    y1.append(1)\n",
        "\n",
        "for i in range(25):\n",
        "    img = plt.imread(\"/content/gdrive/My Drive/NewFolder/seg_test/seg_test/glacier/\" + test_glacier[i])\n",
        "    img = cv2.resize(img,(256,256))\n",
        "    x1.append(img)\n",
        "    y1.append(2)\n",
        "    \n",
        "for i in range(25):\n",
        "    img = plt.imread(\"/content/gdrive/My Drive/NewFolder/seg_test/seg_test/mountain/\" + test_mountain[i])\n",
        "    img = cv2.resize(img,(256,256))\n",
        "    x1.append(img)\n",
        "    y1.append(3)\n",
        "\n",
        "for i in range(25):\n",
        "    img = plt.imread(\"/content/gdrive/My Drive/NewFolder/seg_test/seg_test/sea/\" + test_sea[i])\n",
        "    img = cv2.resize(img,(256,256))\n",
        "    x1.append(img)\n",
        "    y1.append(4)\n",
        "\n",
        "for i in range(25):\n",
        "    img = plt.imread(\"/content/gdrive/My Drive/NewFolder/seg_test/seg_test/street/\" + test_street[i])\n",
        "    img = cv2.resize(img,(256,256))\n",
        "    x1.append(img)\n",
        "    y1.append(5)\n"
      ],
      "execution_count": 180,
      "outputs": []
    },
    {
      "cell_type": "code",
      "metadata": {
        "id": "ErmeY4eyuz9q"
      },
      "source": [
        "x = np.array(x)\n"
      ],
      "execution_count": 181,
      "outputs": []
    },
    {
      "cell_type": "code",
      "metadata": {
        "id": "1p7hgpT_zrWh"
      },
      "source": [
        "x1 = np.array(x1)"
      ],
      "execution_count": 182,
      "outputs": []
    },
    {
      "cell_type": "code",
      "metadata": {
        "colab": {
          "base_uri": "https://localhost:8080/"
        },
        "id": "s-8HUxAhu6xx",
        "outputId": "32f60f36-9406-4cab-de72-1a2db3ba4194"
      },
      "source": [
        "x.shape"
      ],
      "execution_count": 183,
      "outputs": [
        {
          "output_type": "execute_result",
          "data": {
            "text/plain": [
              "(600, 256, 256, 3)"
            ]
          },
          "metadata": {
            "tags": []
          },
          "execution_count": 183
        }
      ]
    },
    {
      "cell_type": "code",
      "metadata": {
        "colab": {
          "base_uri": "https://localhost:8080/"
        },
        "id": "UwzR20Oeu9kP",
        "outputId": "db9bf448-199b-4444-93df-c778ae857d73"
      },
      "source": [
        "x1.shape"
      ],
      "execution_count": 184,
      "outputs": [
        {
          "output_type": "execute_result",
          "data": {
            "text/plain": [
              "(150, 256, 256, 3)"
            ]
          },
          "metadata": {
            "tags": []
          },
          "execution_count": 184
        }
      ]
    },
    {
      "cell_type": "code",
      "metadata": {
        "id": "IdQ0ZVP2u_KP"
      },
      "source": [
        "y = np.array(y)\n",
        "y1 = np.array(y1)"
      ],
      "execution_count": 185,
      "outputs": []
    },
    {
      "cell_type": "code",
      "metadata": {
        "colab": {
          "base_uri": "https://localhost:8080/"
        },
        "id": "_vqI_7qgXll7",
        "outputId": "cfdb2ee2-b070-4131-d300-bf362a2c6825"
      },
      "source": [
        "y.shape"
      ],
      "execution_count": 186,
      "outputs": [
        {
          "output_type": "execute_result",
          "data": {
            "text/plain": [
              "(600,)"
            ]
          },
          "metadata": {
            "tags": []
          },
          "execution_count": 186
        }
      ]
    },
    {
      "cell_type": "code",
      "metadata": {
        "colab": {
          "base_uri": "https://localhost:8080/"
        },
        "id": "hfntdoghXnRb",
        "outputId": "738e1085-59fd-458f-ebb9-62909eb3b608"
      },
      "source": [
        "y1.shape"
      ],
      "execution_count": 187,
      "outputs": [
        {
          "output_type": "execute_result",
          "data": {
            "text/plain": [
              "(150,)"
            ]
          },
          "metadata": {
            "tags": []
          },
          "execution_count": 187
        }
      ]
    },
    {
      "cell_type": "code",
      "metadata": {
        "id": "7Xnp0GhBXpMP"
      },
      "source": [
        "y = np_utils.to_categorical(y,6)\n",
        "y1 = np_utils.to_categorical(y1,6)"
      ],
      "execution_count": 188,
      "outputs": []
    },
    {
      "cell_type": "code",
      "metadata": {
        "colab": {
          "base_uri": "https://localhost:8080/"
        },
        "id": "koVnnmPdYTHF",
        "outputId": "42ed0893-5c88-4c3c-c821-3ec9ecb6e591"
      },
      "source": [
        "y"
      ],
      "execution_count": 189,
      "outputs": [
        {
          "output_type": "execute_result",
          "data": {
            "text/plain": [
              "array([[1., 0., 0., 0., 0., 0.],\n",
              "       [1., 0., 0., 0., 0., 0.],\n",
              "       [1., 0., 0., 0., 0., 0.],\n",
              "       ...,\n",
              "       [0., 0., 0., 0., 0., 1.],\n",
              "       [0., 0., 0., 0., 0., 1.],\n",
              "       [0., 0., 0., 0., 0., 1.]], dtype=float32)"
            ]
          },
          "metadata": {
            "tags": []
          },
          "execution_count": 189
        }
      ]
    },
    {
      "cell_type": "code",
      "metadata": {
        "id": "RtRMp2nsdpZa"
      },
      "source": [
        "x = (x/255)#.astype(np.float16) \n",
        "x1 = (x1/255)#.astype(np.float16)"
      ],
      "execution_count": 190,
      "outputs": []
    },
    {
      "cell_type": "markdown",
      "metadata": {
        "id": "yLmJO2VkYFVJ"
      },
      "source": [
        " If you divide an int data type of a NumPy array, by default, it is typecasted to float64. Generally, 'float64' contains a larger memory. Therefore while dividing a int type NumPy matrix, one should always typecase to shorter datatypes for larger datasets.\n",
        "\n",
        "If the code you executed fluently runs without the img /= 255.0 block, then this is the case. After dividing, you should typecast the img variable to the lowest possible float types, such as, np.float16 or np.float32. However, np.float16 has some limitations and it is not fully supported by TensorFlow (TF converts it to 32-bit float), you may use np.float32 datatype.\n",
        "\n",
        "Therefore, try adding img.astype(np.float16) or img.astype(np.float32) after the line img /= 255.0."
      ]
    },
    {
      "cell_type": "code",
      "metadata": {
        "id": "pri7AboUd2C3"
      },
      "source": [
        "x = tf.image.resize(x,[224,224])\n",
        "x1 = tf.image.resize(x1,[224,224])"
      ],
      "execution_count": 191,
      "outputs": []
    },
    {
      "cell_type": "code",
      "metadata": {
        "colab": {
          "base_uri": "https://localhost:8080/"
        },
        "id": "O2iBTcMahQbc",
        "outputId": "0d4bc21d-5636-4ad0-f8ea-f23d4df4913f"
      },
      "source": [
        "x.shape"
      ],
      "execution_count": 192,
      "outputs": [
        {
          "output_type": "execute_result",
          "data": {
            "text/plain": [
              "TensorShape([600, 224, 224, 3])"
            ]
          },
          "metadata": {
            "tags": []
          },
          "execution_count": 192
        }
      ]
    },
    {
      "cell_type": "code",
      "metadata": {
        "id": "vgBxOiQ-MW1w"
      },
      "source": [
        ""
      ],
      "execution_count": 192,
      "outputs": []
    },
    {
      "cell_type": "markdown",
      "metadata": {
        "id": "UGQJb3ygMYr4"
      },
      "source": [
        "Tranfer learning using VGG16\n"
      ]
    },
    {
      "cell_type": "code",
      "metadata": {
        "id": "a9I7AKkmYVwP"
      },
      "source": [
        "#loading the vgg model and include_top = True will keep the dense layers which is after the bottleneck layer as it is\n",
        "vgg = VGG16(include_top = True, weights = 'imagenet')"
      ],
      "execution_count": 193,
      "outputs": []
    },
    {
      "cell_type": "code",
      "metadata": {
        "colab": {
          "base_uri": "https://localhost:8080/"
        },
        "id": "nLFY2n02Y-Zd",
        "outputId": "60b75428-6f14-4447-8cc9-4172b2d1f9df"
      },
      "source": [
        "vgg.summary()"
      ],
      "execution_count": 194,
      "outputs": [
        {
          "output_type": "stream",
          "text": [
            "Model: \"vgg16\"\n",
            "_________________________________________________________________\n",
            "Layer (type)                 Output Shape              Param #   \n",
            "=================================================================\n",
            "input_3 (InputLayer)         [(None, 224, 224, 3)]     0         \n",
            "_________________________________________________________________\n",
            "block1_conv1 (Conv2D)        (None, 224, 224, 64)      1792      \n",
            "_________________________________________________________________\n",
            "block1_conv2 (Conv2D)        (None, 224, 224, 64)      36928     \n",
            "_________________________________________________________________\n",
            "block1_pool (MaxPooling2D)   (None, 112, 112, 64)      0         \n",
            "_________________________________________________________________\n",
            "block2_conv1 (Conv2D)        (None, 112, 112, 128)     73856     \n",
            "_________________________________________________________________\n",
            "block2_conv2 (Conv2D)        (None, 112, 112, 128)     147584    \n",
            "_________________________________________________________________\n",
            "block2_pool (MaxPooling2D)   (None, 56, 56, 128)       0         \n",
            "_________________________________________________________________\n",
            "block3_conv1 (Conv2D)        (None, 56, 56, 256)       295168    \n",
            "_________________________________________________________________\n",
            "block3_conv2 (Conv2D)        (None, 56, 56, 256)       590080    \n",
            "_________________________________________________________________\n",
            "block3_conv3 (Conv2D)        (None, 56, 56, 256)       590080    \n",
            "_________________________________________________________________\n",
            "block3_pool (MaxPooling2D)   (None, 28, 28, 256)       0         \n",
            "_________________________________________________________________\n",
            "block4_conv1 (Conv2D)        (None, 28, 28, 512)       1180160   \n",
            "_________________________________________________________________\n",
            "block4_conv2 (Conv2D)        (None, 28, 28, 512)       2359808   \n",
            "_________________________________________________________________\n",
            "block4_conv3 (Conv2D)        (None, 28, 28, 512)       2359808   \n",
            "_________________________________________________________________\n",
            "block4_pool (MaxPooling2D)   (None, 14, 14, 512)       0         \n",
            "_________________________________________________________________\n",
            "block5_conv1 (Conv2D)        (None, 14, 14, 512)       2359808   \n",
            "_________________________________________________________________\n",
            "block5_conv2 (Conv2D)        (None, 14, 14, 512)       2359808   \n",
            "_________________________________________________________________\n",
            "block5_conv3 (Conv2D)        (None, 14, 14, 512)       2359808   \n",
            "_________________________________________________________________\n",
            "block5_pool (MaxPooling2D)   (None, 7, 7, 512)         0         \n",
            "_________________________________________________________________\n",
            "flatten (Flatten)            (None, 25088)             0         \n",
            "_________________________________________________________________\n",
            "fc1 (Dense)                  (None, 4096)              102764544 \n",
            "_________________________________________________________________\n",
            "fc2 (Dense)                  (None, 4096)              16781312  \n",
            "_________________________________________________________________\n",
            "predictions (Dense)          (None, 1000)              4097000   \n",
            "=================================================================\n",
            "Total params: 138,357,544\n",
            "Trainable params: 138,357,544\n",
            "Non-trainable params: 0\n",
            "_________________________________________________________________\n"
          ],
          "name": "stdout"
        }
      ]
    },
    {
      "cell_type": "code",
      "metadata": {
        "id": "QWig7rSpZBTc"
      },
      "source": [
        "#we don't want our vgg network weights to get retrained we want the weights as it is\n",
        "for layer in vgg.layers:\n",
        "    layer.trainable = False"
      ],
      "execution_count": 195,
      "outputs": []
    },
    {
      "cell_type": "code",
      "metadata": {
        "id": "ryitDUtiZVyG"
      },
      "source": [
        "#taking the vgg input from first input layer and till the last dense layer and adding our own output layer based on our custom model\n",
        "vgg_input = vgg.layers[0].input\n",
        "vgg_output = vgg.layers[-2].output\n",
        "predictions = Dense(6)(vgg_output)"
      ],
      "execution_count": 196,
      "outputs": []
    },
    {
      "cell_type": "code",
      "metadata": {
        "id": "9u5tXNAtZkam"
      },
      "source": [
        "#creating our new model\n",
        "model = Model(inputs = vgg_input,outputs = predictions)"
      ],
      "execution_count": 197,
      "outputs": []
    },
    {
      "cell_type": "code",
      "metadata": {
        "colab": {
          "base_uri": "https://localhost:8080/"
        },
        "id": "kTL7PRL1borv",
        "outputId": "6cdae7e9-b0e9-45c0-d968-d3a681decb17"
      },
      "source": [
        "model.summary()"
      ],
      "execution_count": 198,
      "outputs": [
        {
          "output_type": "stream",
          "text": [
            "Model: \"model_2\"\n",
            "_________________________________________________________________\n",
            "Layer (type)                 Output Shape              Param #   \n",
            "=================================================================\n",
            "input_3 (InputLayer)         [(None, 224, 224, 3)]     0         \n",
            "_________________________________________________________________\n",
            "block1_conv1 (Conv2D)        (None, 224, 224, 64)      1792      \n",
            "_________________________________________________________________\n",
            "block1_conv2 (Conv2D)        (None, 224, 224, 64)      36928     \n",
            "_________________________________________________________________\n",
            "block1_pool (MaxPooling2D)   (None, 112, 112, 64)      0         \n",
            "_________________________________________________________________\n",
            "block2_conv1 (Conv2D)        (None, 112, 112, 128)     73856     \n",
            "_________________________________________________________________\n",
            "block2_conv2 (Conv2D)        (None, 112, 112, 128)     147584    \n",
            "_________________________________________________________________\n",
            "block2_pool (MaxPooling2D)   (None, 56, 56, 128)       0         \n",
            "_________________________________________________________________\n",
            "block3_conv1 (Conv2D)        (None, 56, 56, 256)       295168    \n",
            "_________________________________________________________________\n",
            "block3_conv2 (Conv2D)        (None, 56, 56, 256)       590080    \n",
            "_________________________________________________________________\n",
            "block3_conv3 (Conv2D)        (None, 56, 56, 256)       590080    \n",
            "_________________________________________________________________\n",
            "block3_pool (MaxPooling2D)   (None, 28, 28, 256)       0         \n",
            "_________________________________________________________________\n",
            "block4_conv1 (Conv2D)        (None, 28, 28, 512)       1180160   \n",
            "_________________________________________________________________\n",
            "block4_conv2 (Conv2D)        (None, 28, 28, 512)       2359808   \n",
            "_________________________________________________________________\n",
            "block4_conv3 (Conv2D)        (None, 28, 28, 512)       2359808   \n",
            "_________________________________________________________________\n",
            "block4_pool (MaxPooling2D)   (None, 14, 14, 512)       0         \n",
            "_________________________________________________________________\n",
            "block5_conv1 (Conv2D)        (None, 14, 14, 512)       2359808   \n",
            "_________________________________________________________________\n",
            "block5_conv2 (Conv2D)        (None, 14, 14, 512)       2359808   \n",
            "_________________________________________________________________\n",
            "block5_conv3 (Conv2D)        (None, 14, 14, 512)       2359808   \n",
            "_________________________________________________________________\n",
            "block5_pool (MaxPooling2D)   (None, 7, 7, 512)         0         \n",
            "_________________________________________________________________\n",
            "flatten (Flatten)            (None, 25088)             0         \n",
            "_________________________________________________________________\n",
            "fc1 (Dense)                  (None, 4096)              102764544 \n",
            "_________________________________________________________________\n",
            "fc2 (Dense)                  (None, 4096)              16781312  \n",
            "_________________________________________________________________\n",
            "dense_34 (Dense)             (None, 6)                 24582     \n",
            "=================================================================\n",
            "Total params: 134,285,126\n",
            "Trainable params: 24,582\n",
            "Non-trainable params: 134,260,544\n",
            "_________________________________________________________________\n"
          ],
          "name": "stdout"
        }
      ]
    },
    {
      "cell_type": "code",
      "metadata": {
        "id": "ySgW0MqmcGJt"
      },
      "source": [
        "model.compile(loss = 'binary_crossentropy',optimizer = 'adam',metrics = ['accuracy'])"
      ],
      "execution_count": 199,
      "outputs": []
    },
    {
      "cell_type": "code",
      "metadata": {
        "colab": {
          "base_uri": "https://localhost:8080/"
        },
        "id": "xhXzM-tIcPpv",
        "outputId": "41c1e82c-a4d2-43dc-c62c-bd60d6d6a645"
      },
      "source": [
        "model.fit(x,y, epochs = 10)"
      ],
      "execution_count": 200,
      "outputs": [
        {
          "output_type": "stream",
          "text": [
            "Epoch 1/10\n",
            "19/19 [==============================] - 3s 142ms/step - loss: 4.1815 - accuracy: 0.1546\n",
            "Epoch 2/10\n",
            "19/19 [==============================] - 3s 141ms/step - loss: 4.2776 - accuracy: 0.1633\n",
            "Epoch 3/10\n",
            "19/19 [==============================] - 3s 144ms/step - loss: 4.3584 - accuracy: 0.1475\n",
            "Epoch 4/10\n",
            "19/19 [==============================] - 3s 145ms/step - loss: 4.3088 - accuracy: 0.1572\n",
            "Epoch 5/10\n",
            "19/19 [==============================] - 3s 147ms/step - loss: 4.1504 - accuracy: 0.1882\n",
            "Epoch 6/10\n",
            "19/19 [==============================] - 3s 148ms/step - loss: 4.3186 - accuracy: 0.1553\n",
            "Epoch 7/10\n",
            "19/19 [==============================] - 3s 147ms/step - loss: 4.2551 - accuracy: 0.1677\n",
            "Epoch 8/10\n",
            "19/19 [==============================] - 3s 145ms/step - loss: 4.3338 - accuracy: 0.1523\n",
            "Epoch 9/10\n",
            "19/19 [==============================] - 3s 143ms/step - loss: 4.2005 - accuracy: 0.1784\n",
            "Epoch 10/10\n",
            "19/19 [==============================] - 3s 142ms/step - loss: 4.2676 - accuracy: 0.1652\n"
          ],
          "name": "stdout"
        },
        {
          "output_type": "execute_result",
          "data": {
            "text/plain": [
              "<tensorflow.python.keras.callbacks.History at 0x7fdf19050750>"
            ]
          },
          "metadata": {
            "tags": []
          },
          "execution_count": 200
        }
      ]
    },
    {
      "cell_type": "code",
      "metadata": {
        "colab": {
          "base_uri": "https://localhost:8080/"
        },
        "id": "HNorOOpaOVe_",
        "outputId": "3c7f0980-3bc4-47b7-c88b-4fb8813334f0"
      },
      "source": [
        "model.evaluate(x1,y1)"
      ],
      "execution_count": 201,
      "outputs": [
        {
          "output_type": "stream",
          "text": [
            "5/5 [==============================] - 1s 134ms/step - loss: 4.2603 - accuracy: 0.1667\n"
          ],
          "name": "stdout"
        },
        {
          "output_type": "execute_result",
          "data": {
            "text/plain": [
              "[4.260303497314453, 0.1666666716337204]"
            ]
          },
          "metadata": {
            "tags": []
          },
          "execution_count": 201
        }
      ]
    },
    {
      "cell_type": "markdown",
      "metadata": {
        "id": "yBK5FYu2MjzX"
      },
      "source": [
        "Contructing a CNN architecture 1"
      ]
    },
    {
      "cell_type": "code",
      "metadata": {
        "id": "mn27g1qW1G3x"
      },
      "source": [
        "model1 = tf.keras.Sequential([\n",
        "    tf.keras.layers.Conv2D(32, (3, 3), activation = 'relu', input_shape = (224, 224, 3)), \n",
        "    tf.keras.layers.MaxPooling2D(2,2),\n",
        "    tf.keras.layers.Conv2D(32, (3, 3), activation = 'relu'),\n",
        "    tf.keras.layers.MaxPooling2D(2,2),\n",
        "    tf.keras.layers.Flatten(),\n",
        "    tf.keras.layers.Dense(128, activation=tf.nn.relu),\n",
        "    tf.keras.layers.Dense(6, activation=tf.nn.softmax)\n",
        "])"
      ],
      "execution_count": 202,
      "outputs": []
    },
    {
      "cell_type": "code",
      "metadata": {
        "colab": {
          "base_uri": "https://localhost:8080/"
        },
        "id": "cJnYw3cp0OFf",
        "outputId": "0861260f-8100-40c6-fc6a-946ff359d8d6"
      },
      "source": [
        "model1.summary()"
      ],
      "execution_count": 203,
      "outputs": [
        {
          "output_type": "stream",
          "text": [
            "Model: \"sequential_16\"\n",
            "_________________________________________________________________\n",
            "Layer (type)                 Output Shape              Param #   \n",
            "=================================================================\n",
            "conv2d_38 (Conv2D)           (None, 222, 222, 32)      896       \n",
            "_________________________________________________________________\n",
            "max_pooling2d_25 (MaxPooling (None, 111, 111, 32)      0         \n",
            "_________________________________________________________________\n",
            "conv2d_39 (Conv2D)           (None, 109, 109, 32)      9248      \n",
            "_________________________________________________________________\n",
            "max_pooling2d_26 (MaxPooling (None, 54, 54, 32)        0         \n",
            "_________________________________________________________________\n",
            "flatten_12 (Flatten)         (None, 93312)             0         \n",
            "_________________________________________________________________\n",
            "dense_35 (Dense)             (None, 128)               11944064  \n",
            "_________________________________________________________________\n",
            "dense_36 (Dense)             (None, 6)                 774       \n",
            "=================================================================\n",
            "Total params: 11,954,982\n",
            "Trainable params: 11,954,982\n",
            "Non-trainable params: 0\n",
            "_________________________________________________________________\n"
          ],
          "name": "stdout"
        }
      ]
    },
    {
      "cell_type": "code",
      "metadata": {
        "id": "6dMb1kRLjVkl"
      },
      "source": [
        "model1.compile(loss = 'categorical_crossentropy',optimizer='adam',metrics='accuracy')"
      ],
      "execution_count": 204,
      "outputs": []
    },
    {
      "cell_type": "code",
      "metadata": {
        "colab": {
          "base_uri": "https://localhost:8080/"
        },
        "id": "9aXQB4mYjbaV",
        "outputId": "1a953cc1-42c7-4648-c86a-eaa091e2abbb"
      },
      "source": [
        "history = model1.fit(x,y, batch_size =100, epochs = 12)"
      ],
      "execution_count": 205,
      "outputs": [
        {
          "output_type": "stream",
          "text": [
            "Epoch 1/12\n",
            "6/6 [==============================] - 1s 97ms/step - loss: 8.5976 - accuracy: 0.1514\n",
            "Epoch 2/12\n",
            "6/6 [==============================] - 1s 93ms/step - loss: 2.2331 - accuracy: 0.2333\n",
            "Epoch 3/12\n",
            "6/6 [==============================] - 1s 98ms/step - loss: 1.6447 - accuracy: 0.2662\n",
            "Epoch 4/12\n",
            "6/6 [==============================] - 1s 98ms/step - loss: 1.5716 - accuracy: 0.3069\n",
            "Epoch 5/12\n",
            "6/6 [==============================] - 1s 96ms/step - loss: 1.4605 - accuracy: 0.3845\n",
            "Epoch 6/12\n",
            "6/6 [==============================] - 1s 91ms/step - loss: 1.2987 - accuracy: 0.4469\n",
            "Epoch 7/12\n",
            "6/6 [==============================] - 1s 92ms/step - loss: 1.0317 - accuracy: 0.6332\n",
            "Epoch 8/12\n",
            "6/6 [==============================] - 1s 96ms/step - loss: 0.8202 - accuracy: 0.7000\n",
            "Epoch 9/12\n",
            "6/6 [==============================] - 1s 98ms/step - loss: 0.6966 - accuracy: 0.7947\n",
            "Epoch 10/12\n",
            "6/6 [==============================] - 1s 97ms/step - loss: 0.5249 - accuracy: 0.8463\n",
            "Epoch 11/12\n",
            "6/6 [==============================] - 1s 102ms/step - loss: 0.4771 - accuracy: 0.8291\n",
            "Epoch 12/12\n",
            "6/6 [==============================] - 1s 95ms/step - loss: 0.3566 - accuracy: 0.8977\n"
          ],
          "name": "stdout"
        }
      ]
    },
    {
      "cell_type": "code",
      "metadata": {
        "colab": {
          "base_uri": "https://localhost:8080/"
        },
        "id": "HPMxPggNjfvZ",
        "outputId": "362a735a-e3c1-4691-ce82-21f243727768"
      },
      "source": [
        "#evaluating our test data\n",
        "model1.evaluate(x1,y1)"
      ],
      "execution_count": 206,
      "outputs": [
        {
          "output_type": "stream",
          "text": [
            "5/5 [==============================] - 0s 12ms/step - loss: 1.3042 - accuracy: 0.5933\n"
          ],
          "name": "stdout"
        },
        {
          "output_type": "execute_result",
          "data": {
            "text/plain": [
              "[1.3041671514511108, 0.5933333039283752]"
            ]
          },
          "metadata": {
            "tags": []
          },
          "execution_count": 206
        }
      ]
    },
    {
      "cell_type": "code",
      "metadata": {
        "colab": {
          "base_uri": "https://localhost:8080/",
          "height": 282
        },
        "id": "GwddwORYjsGj",
        "outputId": "60812428-d57f-424b-ee68-031eea24d338"
      },
      "source": [
        "#plotting our accuracy\n",
        "plt.plot(history.history['accuracy'])"
      ],
      "execution_count": 207,
      "outputs": [
        {
          "output_type": "execute_result",
          "data": {
            "text/plain": [
              "[<matplotlib.lines.Line2D at 0x7fdf17d71190>]"
            ]
          },
          "metadata": {
            "tags": []
          },
          "execution_count": 207
        },
        {
          "output_type": "display_data",
          "data": {
            "image/png": "[encoded data removed]",
            "text/plain": [
              "<Figure size 432x288 with 1 Axes>"
            ]
          },
          "metadata": {
            "tags": [],
            "needs_background": "light"
          }
        }
      ]
    },
    {
      "cell_type": "markdown",
      "metadata": {
        "id": "JuBvQMyiM6sy"
      },
      "source": [
        "Constructing a CNN architecture 2"
      ]
    },
    {
      "cell_type": "code",
      "metadata": {
        "id": "sGU-SwzZyv4u"
      },
      "source": [
        "model2 = Sequential()\n",
        "model2.add(Conv2D(32,(3,3),activation='relu',input_shape = (224,224,3)))  #building a convolution layer by giving the input no.of kernels and kernel size and the input shape\n",
        "model2.add(MaxPooling2D(2,2)) # Adding the maxpooling layer to extract the features as well as to reduce the size of the image\n",
        "model2.add(Conv2D(16,(3,3),activation='relu')) # adding the 2nd Conv layer\n",
        "model2.add(MaxPooling2D(2,2))\n",
        "model2.add(Flatten())  #flatten will reshape our n dim array to 1d vector. The input require for the fully connected neural network\n",
        "model2.add(Dense(64,activation='relu')) #fully connected layer\n",
        "model2.add(Dense(32,activation='relu'))\n",
        "model2.add(Dense(6,activation='softmax')) #output layer"
      ],
      "execution_count": 208,
      "outputs": []
    },
    {
      "cell_type": "code",
      "metadata": {
        "colab": {
          "base_uri": "https://localhost:8080/"
        },
        "id": "A6jqKS7EjT6z",
        "outputId": "c9a02fba-ce05-426a-d453-7371d76afe1d"
      },
      "source": [
        "model2.summary()"
      ],
      "execution_count": 209,
      "outputs": [
        {
          "output_type": "stream",
          "text": [
            "Model: \"sequential_17\"\n",
            "_________________________________________________________________\n",
            "Layer (type)                 Output Shape              Param #   \n",
            "=================================================================\n",
            "conv2d_40 (Conv2D)           (None, 222, 222, 32)      896       \n",
            "_________________________________________________________________\n",
            "max_pooling2d_27 (MaxPooling (None, 111, 111, 32)      0         \n",
            "_________________________________________________________________\n",
            "conv2d_41 (Conv2D)           (None, 109, 109, 16)      4624      \n",
            "_________________________________________________________________\n",
            "max_pooling2d_28 (MaxPooling (None, 54, 54, 16)        0         \n",
            "_________________________________________________________________\n",
            "flatten_13 (Flatten)         (None, 46656)             0         \n",
            "_________________________________________________________________\n",
            "dense_37 (Dense)             (None, 64)                2986048   \n",
            "_________________________________________________________________\n",
            "dense_38 (Dense)             (None, 32)                2080      \n",
            "_________________________________________________________________\n",
            "dense_39 (Dense)             (None, 6)                 198       \n",
            "=================================================================\n",
            "Total params: 2,993,846\n",
            "Trainable params: 2,993,846\n",
            "Non-trainable params: 0\n",
            "_________________________________________________________________\n"
          ],
          "name": "stdout"
        }
      ]
    },
    {
      "cell_type": "code",
      "metadata": {
        "id": "bKEVziCWAJrW"
      },
      "source": [
        "model2.compile(loss = 'categorical_crossentropy',optimizer='adam',metrics='accuracy')"
      ],
      "execution_count": 210,
      "outputs": []
    },
    {
      "cell_type": "code",
      "metadata": {
        "colab": {
          "base_uri": "https://localhost:8080/"
        },
        "id": "pLdqbFz1APD7",
        "outputId": "e61cf5d9-9047-4f25-94d4-0b635b4e5ba5"
      },
      "source": [
        "#history = model1.fit(x,y, batch_size =101, epochs = 10)\n",
        "\n",
        "model2.fit(x, y, validation_data=(x1,y1), epochs=10, batch_size=100)"
      ],
      "execution_count": 211,
      "outputs": [
        {
          "output_type": "stream",
          "text": [
            "Epoch 1/10\n",
            "6/6 [==============================] - 1s 137ms/step - loss: 1.9816 - accuracy: 0.2088 - val_loss: 1.7024 - val_accuracy: 0.2200\n",
            "Epoch 2/10\n",
            "6/6 [==============================] - 1s 106ms/step - loss: 1.6756 - accuracy: 0.2991 - val_loss: 1.5560 - val_accuracy: 0.3400\n",
            "Epoch 3/10\n",
            "6/6 [==============================] - 1s 108ms/step - loss: 1.4849 - accuracy: 0.4213 - val_loss: 1.4146 - val_accuracy: 0.4200\n",
            "Epoch 4/10\n",
            "6/6 [==============================] - 1s 110ms/step - loss: 1.3444 - accuracy: 0.4884 - val_loss: 1.2929 - val_accuracy: 0.5667\n",
            "Epoch 5/10\n",
            "6/6 [==============================] - 1s 109ms/step - loss: 1.1504 - accuracy: 0.5759 - val_loss: 1.2539 - val_accuracy: 0.5400\n",
            "Epoch 6/10\n",
            "6/6 [==============================] - 1s 106ms/step - loss: 1.0608 - accuracy: 0.6232 - val_loss: 1.1330 - val_accuracy: 0.6000\n",
            "Epoch 7/10\n",
            "6/6 [==============================] - 1s 106ms/step - loss: 0.9295 - accuracy: 0.6562 - val_loss: 1.0756 - val_accuracy: 0.6067\n",
            "Epoch 8/10\n",
            "6/6 [==============================] - 1s 103ms/step - loss: 0.7684 - accuracy: 0.7236 - val_loss: 1.0597 - val_accuracy: 0.6533\n",
            "Epoch 9/10\n",
            "6/6 [==============================] - 1s 107ms/step - loss: 0.6912 - accuracy: 0.7687 - val_loss: 1.0827 - val_accuracy: 0.6133\n",
            "Epoch 10/10\n",
            "6/6 [==============================] - 1s 104ms/step - loss: 0.5658 - accuracy: 0.8206 - val_loss: 1.0542 - val_accuracy: 0.6400\n"
          ],
          "name": "stdout"
        },
        {
          "output_type": "execute_result",
          "data": {
            "text/plain": [
              "<tensorflow.python.keras.callbacks.History at 0x7fdf17da8d10>"
            ]
          },
          "metadata": {
            "tags": []
          },
          "execution_count": 211
        }
      ]
    },
    {
      "cell_type": "code",
      "metadata": {
        "colab": {
          "base_uri": "https://localhost:8080/"
        },
        "id": "krgO3lhNMM-B",
        "outputId": "0b190fef-4728-4ea9-ccec-0f7ddf153ac9"
      },
      "source": [
        "model2.evaluate(x1,y1)"
      ],
      "execution_count": 212,
      "outputs": [
        {
          "output_type": "stream",
          "text": [
            "5/5 [==============================] - 0s 11ms/step - loss: 1.0542 - accuracy: 0.6400\n"
          ],
          "name": "stdout"
        },
        {
          "output_type": "execute_result",
          "data": {
            "text/plain": [
              "[1.0541541576385498, 0.6399999856948853]"
            ]
          },
          "metadata": {
            "tags": []
          },
          "execution_count": 212
        }
      ]
    }
  ]
}